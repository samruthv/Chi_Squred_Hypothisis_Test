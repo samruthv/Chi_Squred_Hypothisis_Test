{
 "cells": [
  {
   "cell_type": "markdown",
   "metadata": {},
   "source": [
    "## Problem 5"
   ]
  },
  {
   "cell_type": "code",
   "execution_count": 6,
   "metadata": {},
   "outputs": [
    {
     "name": "stdout",
     "output_type": "stream",
     "text": [
      "stat:\n",
      "6.0293915682900145\n",
      "p:\n",
      "0.536321671200907\n",
      "dof:\n",
      "7\n",
      "p value is 0.536321671200907\n",
      "Independent (H0 holds true)\n"
     ]
    }
   ],
   "source": [
    "from scipy.stats import chi2_contingency\n",
    "  \n",
    "# defining the table\n",
    "data = [[78, 47],\n",
    "[56, 29],\n",
    "[43, 29],\n",
    "[53, 32],\n",
    "[43, 30],\n",
    "[36, 22],\n",
    "[42, 23],\n",
    "[29, 7]]\n",
    "stat, p, dof, expected = chi2_contingency(data)\n",
    "print('stat:')\n",
    "print(stat) \n",
    "print('p:')\n",
    "print(p) \n",
    "print('dof:')\n",
    "print(dof) \n",
    "# interpret p-value\n",
    "alpha = 0.05\n",
    "print(\"p value is \" + str(p))\n",
    "if p <= alpha:\n",
    "    print('Dependent (reject H0)')\n",
    "else:\n",
    "    print('Independent (H0 holds true)')"
   ]
  },
  {
   "cell_type": "markdown",
   "metadata": {},
   "source": [
    "## Since the P value is greater the critical value, the null hypothosis is failed to be rejected. Therefore people with different ethiniticies have the same opinion on working wives.  "
   ]
  },
  {
   "cell_type": "markdown",
   "metadata": {},
   "source": [
    "## Problem 6"
   ]
  },
  {
   "cell_type": "code",
   "execution_count": 11,
   "metadata": {},
   "outputs": [
    {
     "name": "stdout",
     "output_type": "stream",
     "text": [
      "stat:\n",
      "2.750380204356203\n",
      "p:\n",
      "0.2527915350152488\n",
      "dof:\n",
      "2\n"
     ]
    }
   ],
   "source": [
    "\n",
    "data = [[51, 38],\n",
    "[14, 16],\n",
    "[38, 46]]\n",
    "stat, p, dof, expected = chi2_contingency(data)\n",
    "print('stat:')\n",
    "print(stat) \n",
    "print('p:')\n",
    "print(p) \n",
    "print('dof:')\n",
    "print(dof) \n",
    "# interpret p-value\n",
    "alpha = 0.05"
   ]
  },
  {
   "cell_type": "markdown",
   "metadata": {},
   "source": [
    "## LOOK BELOW AT PROB 6 ANSWERS FOR ANSWERS "
   ]
  },
  {
   "cell_type": "markdown",
   "metadata": {},
   "source": [
    "## Problem 14\n",
    "\n",
    "## LOOK BELOW AT PROB 14 FOR ANSWERS "
   ]
  },
  {
   "cell_type": "markdown",
   "metadata": {},
   "source": [
    "## Problem 16"
   ]
  },
  {
   "cell_type": "code",
   "execution_count": 12,
   "metadata": {},
   "outputs": [
    {
     "name": "stdout",
     "output_type": "stream",
     "text": [
      "stat:\n",
      "27.289202722959082\n",
      "p:\n",
      "1.737410633694689e-05\n",
      "dof:\n",
      "4\n",
      "p value is 1.737410633694689e-05\n"
     ]
    }
   ],
   "source": [
    "data = [[79, 58, 49],\n",
    "[10, 8, 9],\n",
    "[10, 34, 42]]\n",
    "stat, p, dof, expected = chi2_contingency(data)\n",
    "print('stat:')\n",
    "print(stat) \n",
    "print('p:')\n",
    "print(p) \n",
    "print('dof:')\n",
    "print(dof) \n",
    "# interpret p-value\n",
    "alpha = 0.05\n",
    "print(\"p value is \" + str(p))"
   ]
  },
  {
   "cell_type": "markdown",
   "metadata": {},
   "source": [
    "## LOOK BELOW AT PROB 16 FOR ANSWERS "
   ]
  }
 ],
 "metadata": {
  "kernelspec": {
   "display_name": "Python 3",
   "language": "python",
   "name": "python3"
  },
  "language_info": {
   "codemirror_mode": {
    "name": "ipython",
    "version": 3
   },
   "file_extension": ".py",
   "mimetype": "text/x-python",
   "name": "python",
   "nbconvert_exporter": "python",
   "pygments_lexer": "ipython3",
   "version": "3.7.6"
  }
 },
 "nbformat": 4,
 "nbformat_minor": 4
}
